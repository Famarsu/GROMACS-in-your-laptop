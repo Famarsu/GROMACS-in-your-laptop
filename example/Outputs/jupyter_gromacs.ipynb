{
 "cells": [
  {
   "cell_type": "markdown",
   "metadata": {},
   "source": [
    "# Running simulations in a jupyter notebook \n",
    "## Prerequisites\n",
    "1. Install the environment contained in the main folder using \n",
    "```\n",
    "conda env create -f modelling.yml \n",
    "```\n",
    "2. Open the jupyter notebook in your conda environment, quite simple in VS Code but also straight forward in conda from terminal.\n",
    "\n",
    "*Important:* Remember to have already installed GROMACS in your laptop before proceeding. Otherwise come back to [README](../../README.md)"
   ]
  },
  {
   "cell_type": "markdown",
   "metadata": {},
   "source": [
    "## Loading all the modules"
   ]
  },
  {
   "cell_type": "markdown",
   "metadata": {},
   "source": [
    "We load the libraries `os` that allows us to execute commands in terminal from the Notebook"
   ]
  },
  {
   "cell_type": "code",
   "execution_count": 9,
   "metadata": {},
   "outputs": [],
   "source": [
    "import os"
   ]
  },
  {
   "cell_type": "code",
   "execution_count": 10,
   "metadata": {},
   "outputs": [
    {
     "name": "stdout",
     "output_type": "stream",
     "text": [
      "Enabling notebook extension nglview-js-widgets/extension...\n",
      "      - Validating: \u001b[32mOK\u001b[0m\n"
     ]
    }
   ],
   "source": [
    "import nglview as nv\n",
    "!jupyter-nbextension enable nglview --py --sys-prefix # Needed to ensure you can visualize nglview objects in the notebook\n",
    "import matplotlib as mpl\n",
    "import matplotlib.pyplot as plt\n",
    "import numpy as np\n",
    "import py3Dmol\n",
    "import MDAnalysis as mda"
   ]
  },
  {
   "cell_type": "markdown",
   "metadata": {},
   "source": [
    "### Calling GROMACS from terminal"
   ]
  },
  {
   "cell_type": "markdown",
   "metadata": {},
   "source": [
    "### Making the topology"
   ]
  },
  {
   "cell_type": "code",
   "execution_count": 11,
   "metadata": {},
   "outputs": [
    {
     "name": "stdout",
     "output_type": "stream",
     "text": [
      "                 :-) GROMACS - gmx pdb2gmx, 2021.3-bioconda (-:\n",
      "\n",
      "                            GROMACS is written by:\n",
      "     Andrey Alekseenko              Emile Apol              Rossen Apostolov     \n",
      "         Paul Bauer           Herman J.C. Berendsen           Par Bjelkmar       \n",
      "       Christian Blau           Viacheslav Bolnykh             Kevin Boyd        \n",
      "     Aldert van Buuren           Rudi van Drunen             Anton Feenstra      \n",
      "    Gilles Gouaillardet             Alan Gray               Gerrit Groenhof      \n",
      "       Anca Hamuraru            Vincent Hindriksen          M. Eric Irrgang      \n",
      "      Aleksei Iupinov           Christoph Junghans             Joe Jordan        \n",
      "    Dimitrios Karkoulis            Peter Kasson                Jiri Kraus        \n",
      "      Carsten Kutzner              Per Larsson              Justin A. Lemkul     \n",
      "       Viveca Lindahl            Magnus Lundborg             Erik Marklund       \n",
      "        Pascal Merz             Pieter Meulenhoff            Teemu Murtola       \n",
      "        Szilard Pall               Sander Pronk              Roland Schulz       \n",
      "       Michael Shirts            Alexey Shvetsov             Alfons Sijbers      \n",
      "       Peter Tieleman              Jon Vincent              Teemu Virolainen     \n",
      "     Christian Wennberg            Maarten Wolf              Artem Zhmurov       \n",
      "                           and the project leaders:\n",
      "        Mark Abraham, Berk Hess, Erik Lindahl, and David van der Spoel\n",
      "\n",
      "Copyright (c) 1991-2000, University of Groningen, The Netherlands.\n",
      "Copyright (c) 2001-2019, The GROMACS development team at\n",
      "Uppsala University, Stockholm University and\n",
      "the Royal Institute of Technology, Sweden.\n",
      "check out http://www.gromacs.org for more information.\n",
      "\n",
      "GROMACS is free software; you can redistribute it and/or modify it\n",
      "under the terms of the GNU Lesser General Public License\n",
      "as published by the Free Software Foundation; either version 2.1\n",
      "of the License, or (at your option) any later version.\n",
      "\n",
      "GROMACS:      gmx pdb2gmx, version 2021.3-bioconda\n",
      "Executable:   /Users/trivino/opt/miniconda3/envs/modelling/bin.SSE2/gmx\n",
      "Data prefix:  /Users/trivino/opt/miniconda3/envs/modelling\n",
      "Working dir:  /Users/trivino/Library/CloudStorage/OneDrive-Chalmers/2_MD/GROMACS-in-your-laptop/example/Outputs\n",
      "Command line:\n",
      "  gmx pdb2gmx -f 1aki -o 1_aki_proc -water spce\n",
      "\n",
      "Select the Force Field:\n",
      "\n",
      "From '/Users/trivino/opt/miniconda3/envs/modelling/share/gromacs/top':\n",
      "\n",
      " 1: AMBER03 protein, nucleic AMBER94 (Duan et al., J. Comp. Chem. 24, 1999-2012, 2003)\n",
      "\n",
      " 2: AMBER94 force field (Cornell et al., JACS 117, 5179-5197, 1995)\n",
      "\n",
      " 3: AMBER96 protein, nucleic AMBER94 (Kollman et al., Acc. Chem. Res. 29, 461-469, 1996)\n",
      "\n",
      " 4: AMBER99 protein, nucleic AMBER94 (Wang et al., J. Comp. Chem. 21, 1049-1074, 2000)\n",
      "\n",
      " 5: AMBER99SB protein, nucleic AMBER94 (Hornak et al., Proteins 65, 712-725, 2006)\n",
      "\n",
      " 6: AMBER99SB-ILDN protein, nucleic AMBER94 (Lindorff-Larsen et al., Proteins 78, 1950-58, 2010)\n",
      "\n",
      " 7: AMBERGS force field (Garcia & Sanbonmatsu, PNAS 99, 2782-2787, 2002)\n",
      "\n",
      " 8: CHARMM27 all-atom force field (CHARM22 plus CMAP for proteins)\n",
      "\n",
      " 9: GROMOS96 43a1 force field\n",
      "\n",
      "10: GROMOS96 43a2 force field (improved alkane dihedrals)\n",
      "\n",
      "11: GROMOS96 45a3 force field (Schuler JCC 2001 22 1205)\n",
      "\n",
      "12: GROMOS96 53a5 force field (JCC 2004 vol 25 pag 1656)\n",
      "\n",
      "13: GROMOS96 53a6 force field (JCC 2004 vol 25 pag 1656)\n",
      "\n",
      "14: GROMOS96 54a7 force field (Eur. Biophys. J. (2011), 40,, 843-856, DOI: 10.1007/s00249-011-0700-9)\n",
      "\n",
      "15: OPLS-AA/L all-atom force field (2001 aminoacid dihedrals)\n",
      "\n",
      "Using the Oplsaa force field in directory oplsaa.ff\n",
      "\n",
      "going to rename oplsaa.ff/aminoacids.r2b\n",
      "Opening force field file /Users/trivino/opt/miniconda3/envs/modelling/share/gromacs/top/oplsaa.ff/aminoacids.r2b\n",
      "Reading 1aki.pdb...\n",
      "WARNING: all CONECT records are ignored\n",
      "Read 'LYSOZYME', 1001 atoms\n",
      "\n",
      "Analyzing pdb file\n",
      "Splitting chemical chains based on TER records or chain id changing.\n",
      "\n",
      "There are 1 chains and 0 blocks of water and 129 residues with 1001 atoms\n",
      "\n",
      "  chain  #res #atoms\n",
      "\n",
      "  1 'A'   129   1001  \n",
      "\n",
      "All occupancies are one\n",
      "All occupancies are one\n",
      "Opening force field file /Users/trivino/opt/miniconda3/envs/modelling/share/gromacs/top/oplsaa.ff/atomtypes.atp\n",
      "\n",
      "Reading residue database... (Oplsaa)\n",
      "Opening force field file /Users/trivino/opt/miniconda3/envs/modelling/share/gromacs/top/oplsaa.ff/aminoacids.rtp\n",
      "Opening force field file /Users/trivino/opt/miniconda3/envs/modelling/share/gromacs/top/oplsaa.ff/aminoacids.hdb\n",
      "Opening force field file /Users/trivino/opt/miniconda3/envs/modelling/share/gromacs/top/oplsaa.ff/aminoacids.n.tdb\n",
      "Opening force field file /Users/trivino/opt/miniconda3/envs/modelling/share/gromacs/top/oplsaa.ff/aminoacids.c.tdb\n",
      "\n",
      "Back Off! I just backed up topol.top to ./#topol.top.1#\n",
      "\n",
      "Processing chain 1 'A' (1001 atoms, 129 residues)\n",
      "Analysing hydrogen-bonding network for automated assignment of histidine\n",
      " protonation. 213 donors and 184 acceptors were found.\n",
      "There are 255 hydrogen bonds\n",
      "Will use HISE for residue 15\n",
      "\n",
      "Identified residue LYS1 as a starting terminus.\n",
      "\n",
      "Identified residue LEU129 as a ending terminus.\n",
      "8 out of 8 lines of specbond.dat converted successfully\n",
      "Special Atom Distance matrix:\n",
      "                    CYS6   MET12   HIS15   CYS30   CYS64   CYS76   CYS80\n",
      "                    SG48    SD87  NE2118   SG238   SG513   SG601   SG630\n",
      "   MET12    SD87   1.166\n",
      "   HIS15  NE2118   1.776   1.019\n",
      "   CYS30   SG238   1.406   1.054   2.069\n",
      "   CYS64   SG513   2.835   1.794   1.789   2.241\n",
      "   CYS76   SG601   2.704   1.551   1.468   2.116   0.765\n",
      "   CYS80   SG630   2.959   1.951   1.916   2.391   0.199   0.944\n",
      "   CYS94   SG724   2.550   1.407   1.382   1.975   0.665   0.202   0.855\n",
      "  MET105   SD799   1.827   0.911   1.683   0.888   1.849   1.461   2.036\n",
      "  CYS115   SG889   1.576   1.084   2.078   0.200   2.111   1.989   2.262\n",
      "  CYS127   SG981   0.197   1.072   1.721   1.313   2.799   2.622   2.934\n",
      "                   CYS94  MET105  CYS115\n",
      "                   SG724   SD799   SG889\n",
      "  MET105   SD799   1.381\n",
      "  CYS115   SG889   1.853   0.790\n",
      "  CYS127   SG981   2.475   1.686   1.483\n",
      "Linking CYS-6 SG-48 and CYS-127 SG-981...\n",
      "Linking CYS-30 SG-238 and CYS-115 SG-889...\n",
      "Linking CYS-64 SG-513 and CYS-80 SG-630...\n",
      "Linking CYS-76 SG-601 and CYS-94 SG-724...\n",
      "Start terminus LYS-1: NH3+\n",
      "End terminus LEU-129: COO-\n",
      "\n",
      "Checking for duplicate atoms....\n",
      "\n",
      "Generating any missing hydrogen atoms and/or adding termini.\n",
      "\n",
      "Now there are 129 residues with 1960 atoms\n",
      "\n",
      "Making bonds...\n",
      "\n",
      "Number of bonds was 1984, now 1984\n",
      "\n",
      "Generating angles, dihedrals and pairs...\n",
      "Before cleaning: 5142 pairs\n",
      "Before cleaning: 5187 dihedrals\n",
      "Keeping all generated dihedrals\n",
      "\n",
      "Making cmap torsions...\n",
      "\n",
      "There are 5187 dihedrals,  426 impropers, 3547 angles\n",
      "          5106 pairs,     1984 bonds and     0 virtual sites\n",
      "\n",
      "Total mass 14313.193 a.m.u.\n",
      "\n",
      "Total charge 8.000 e\n",
      "\n",
      "Writing topology\n",
      "\n",
      "Back Off! I just backed up posre.itp to ./#posre.itp.1#\n",
      "\n",
      "Writing coordinate file...\n",
      "\n",
      "Back Off! I just backed up 1_aki_proc.gro to ./#1_aki_proc.gro.1#\n",
      "\n",
      "\t\t--------- PLEASE NOTE ------------\n",
      "\n",
      "You have successfully generated a topology from: 1aki.pdb.\n",
      "\n",
      "The Oplsaa force field and the spce water model are used.\n",
      "\n",
      "\t\t--------- ETON ESAELP ------------\n",
      "\n",
      "GROMACS reminds you: \"A university faculty is 500 egotists with a common parking problem.\" (Keith Sullivan)\n",
      "\n"
     ]
    }
   ],
   "source": [
    "!printf '15' | gmx pdb2gmx -f 1aki -o 1_aki_proc -water spce"
   ]
  },
  {
   "cell_type": "markdown",
   "metadata": {},
   "source": [
    "### Creating the simulation box"
   ]
  },
  {
   "cell_type": "code",
   "execution_count": null,
   "metadata": {},
   "outputs": [],
   "source": [
    "!gmx editconf -f 1aki_proc -c -d 0.5 -bt triclinic -o box"
   ]
  },
  {
   "cell_type": "markdown",
   "metadata": {},
   "source": [
    "### Solvating the box"
   ]
  },
  {
   "cell_type": "code",
   "execution_count": null,
   "metadata": {},
   "outputs": [],
   "source": [
    "!gmx solvate -cp box -cs spc216 -p topol -o solv"
   ]
  },
  {
   "cell_type": "markdown",
   "metadata": {},
   "source": [
    "## Adding ions"
   ]
  },
  {
   "cell_type": "code",
   "execution_count": null,
   "metadata": {},
   "outputs": [],
   "source": [
    "!gmx grompp -f ions -c solv -p topol -o ions"
   ]
  },
  {
   "cell_type": "code",
   "execution_count": null,
   "metadata": {},
   "outputs": [],
   "source": [
    "!printf '13' | gmx genion -s ions -p topol -neutral -pname NA -nname CL -o solv_ions"
   ]
  },
  {
   "cell_type": "markdown",
   "metadata": {},
   "source": [
    "## Energy minimization"
   ]
  },
  {
   "cell_type": "code",
   "execution_count": null,
   "metadata": {},
   "outputs": [],
   "source": [
    "!gmx grompp -f em -c solv_ions -p topol -o em\n",
    "!gmx mdrun -v -deffnm em"
   ]
  },
  {
   "cell_type": "markdown",
   "metadata": {},
   "source": [
    "## Plotting properties"
   ]
  },
  {
   "cell_type": "code",
   "execution_count": null,
   "metadata": {},
   "outputs": [],
   "source": [
    "!printf \"10 0\" | gmx energy -f em -o potential\n",
    "potential = np.genfromtxt([i for i in open('potential.xvg').read().splitlines()\n",
    "    if not i.startswith(('#','@'))])\n",
    "plt.plot(*potential.T)\n",
    "plt.xlabel('step')\n",
    "plt.ylabel('potential')"
   ]
  },
  {
   "cell_type": "markdown",
   "metadata": {},
   "source": [
    "## NVT Equilibration"
   ]
  },
  {
   "cell_type": "code",
   "execution_count": null,
   "metadata": {},
   "outputs": [],
   "source": [
    "!gmx grompp -f nvt -c em -p topol -o nvt\n",
    "!gmx mdrun -v -deffnm nvt"
   ]
  },
  {
   "cell_type": "markdown",
   "metadata": {},
   "source": [
    "### Plotting pressure evolution during the NVT"
   ]
  },
  {
   "cell_type": "code",
   "execution_count": null,
   "metadata": {},
   "outputs": [],
   "source": [
    "!printf '17' | gmx energy -f nvt -o pressure\n",
    "pressure = np.genfromtxt([i for i in open('pressure.xvg').read().splitlines()\n",
    "    if not i.startswith(('#','@'))])\n",
    "plt.plot(*pressure.T)\n",
    "plt.xlabel('step')\n",
    "plt.ylabel('pressure')"
   ]
  },
  {
   "cell_type": "markdown",
   "metadata": {},
   "source": [
    "## NPT Equilibration"
   ]
  },
  {
   "cell_type": "code",
   "execution_count": null,
   "metadata": {},
   "outputs": [],
   "source": [
    "!gmx grompp -f npt -c nvt -p topol -o npt\n",
    "!gmx mdrun -v -deffnm npt"
   ]
  },
  {
   "cell_type": "markdown",
   "metadata": {},
   "source": [
    "## MD Production"
   ]
  },
  {
   "cell_type": "code",
   "execution_count": null,
   "metadata": {},
   "outputs": [],
   "source": [
    "!gmx grompp -f md -c npt -p topol -o md\n",
    "!gmx mdrun -v -deffnm md"
   ]
  },
  {
   "cell_type": "markdown",
   "metadata": {},
   "source": [
    "## Visualization"
   ]
  },
  {
   "cell_type": "markdown",
   "metadata": {},
   "source": [
    "### With py3Dmol"
   ]
  },
  {
   "cell_type": "code",
   "execution_count": 16,
   "metadata": {},
   "outputs": [
    {
     "data": {
      "application/3dmoljs_load.v0": "<div id=\"3dmolviewer_1667473717555564\"  style=\"position: relative; width: 640px; height: 480px\">\n        <p id=\"3dmolwarning_1667473717555564\" style=\"background-color:#ffcccc;color:black\">You appear to be running in JupyterLab (or JavaScript failed to load for some other reason).  You need to install the 3dmol extension: <br>\n        <tt>jupyter labextension install jupyterlab_3dmol</tt></p>\n        </div>\n<script>\n\nvar loadScriptAsync = function(uri){\n  return new Promise((resolve, reject) => {\n    var tag = document.createElement('script');\n    tag.src = uri;\n    tag.async = true;\n    tag.onload = () => {\n      resolve();\n    };\n  var firstScriptTag = document.getElementsByTagName('script')[0];\n  firstScriptTag.parentNode.insertBefore(tag, firstScriptTag);\n});\n};\n\nif(typeof $3Dmolpromise === 'undefined') {\n$3Dmolpromise = null;\n  $3Dmolpromise = loadScriptAsync('https://cdn.jsdelivr.net/npm/3dmol@latest/build/3Dmol-min.min.js');\n}\n\nvar viewer_1667473717555564 = null;\nvar warn = document.getElementById(\"3dmolwarning_1667473717555564\");\nif(warn) {\n    warn.parentNode.removeChild(warn);\n}\n$3Dmolpromise.then(function() {\nviewer_1667473717555564 = $3Dmol.createViewer($(\"#3dmolviewer_1667473717555564\"),{backgroundColor:\"white\"});\n$3Dmol.download(\"md.gro\", viewer_1667473717555564, {}, function() {\nviewer_1667473717555564.zoomTo();\n\tviewer_1667473717555564.setStyle(\"cartoon\");\nviewer_1667473717555564.render();\n})\n});\n</script><script>$(\"#md.xtc\").append($(\"#3dmolviewer_1667473717555564\")); </script>",
      "text/html": [
       "<div id=\"3dmolviewer_1667473717555564\"  style=\"position: relative; width: 640px; height: 480px\">\n",
       "        <p id=\"3dmolwarning_1667473717555564\" style=\"background-color:#ffcccc;color:black\">You appear to be running in JupyterLab (or JavaScript failed to load for some other reason).  You need to install the 3dmol extension: <br>\n",
       "        <tt>jupyter labextension install jupyterlab_3dmol</tt></p>\n",
       "        </div>\n",
       "<script>\n",
       "\n",
       "var loadScriptAsync = function(uri){\n",
       "  return new Promise((resolve, reject) => {\n",
       "    var tag = document.createElement('script');\n",
       "    tag.src = uri;\n",
       "    tag.async = true;\n",
       "    tag.onload = () => {\n",
       "      resolve();\n",
       "    };\n",
       "  var firstScriptTag = document.getElementsByTagName('script')[0];\n",
       "  firstScriptTag.parentNode.insertBefore(tag, firstScriptTag);\n",
       "});\n",
       "};\n",
       "\n",
       "if(typeof $3Dmolpromise === 'undefined') {\n",
       "$3Dmolpromise = null;\n",
       "  $3Dmolpromise = loadScriptAsync('https://cdn.jsdelivr.net/npm/3dmol@latest/build/3Dmol-min.min.js');\n",
       "}\n",
       "\n",
       "var viewer_1667473717555564 = null;\n",
       "var warn = document.getElementById(\"3dmolwarning_1667473717555564\");\n",
       "if(warn) {\n",
       "    warn.parentNode.removeChild(warn);\n",
       "}\n",
       "$3Dmolpromise.then(function() {\n",
       "viewer_1667473717555564 = $3Dmol.createViewer($(\"#3dmolviewer_1667473717555564\"),{backgroundColor:\"white\"});\n",
       "$3Dmol.download(\"md.gro\", viewer_1667473717555564, {}, function() {\n",
       "viewer_1667473717555564.zoomTo();\n",
       "\tviewer_1667473717555564.setStyle(\"cartoon\");\n",
       "viewer_1667473717555564.render();\n",
       "})\n",
       "});\n",
       "</script><script>$(\"#md.xtc\").append($(\"#3dmolviewer_1667473717555564\")); </script>"
      ]
     },
     "metadata": {},
     "output_type": "display_data"
    },
    {
     "data": {
      "text/plain": [
       "<bound method using_ipython.<locals>.inner of <py3Dmol.view object at 0x7fa782aa1d90>>"
      ]
     },
     "execution_count": 16,
     "metadata": {},
     "output_type": "execute_result"
    }
   ],
   "source": [
    "aki = py3Dmol.view('md.gro')\n",
    "aki.setStyle('cartoon')\n",
    "aki.insert('md.xtc')\n",
    "aki.show"
   ]
  },
  {
   "cell_type": "markdown",
   "metadata": {},
   "source": [
    "### With NGLview"
   ]
  },
  {
   "cell_type": "code",
   "execution_count": 14,
   "metadata": {},
   "outputs": [
    {
     "data": {
      "application/vnd.jupyter.widget-view+json": {
       "model_id": "5345f4b9522843d38e5f110fc88fef0b",
       "version_major": 2,
       "version_minor": 0
      },
      "text/plain": [
       "NGLWidget(count=101)"
      ]
     },
     "metadata": {},
     "output_type": "display_data"
    }
   ],
   "source": [
    "import nglview as nv\n",
    "import mdtraj as md\n",
    "traj = md.load('md.xtc',top='md.gro')\n",
    "t = nv.MDTrajTrajectory(traj)\n",
    "w = nv.NGLWidget(t)\n",
    "w"
   ]
  },
  {
   "cell_type": "markdown",
   "metadata": {},
   "source": [
    "### With MDAnalysis\n",
    "Allows in a very simple way visualize trajectories"
   ]
  },
  {
   "cell_type": "code",
   "execution_count": 15,
   "metadata": {},
   "outputs": [
    {
     "name": "stderr",
     "output_type": "stream",
     "text": [
      "/Users/trivino/opt/miniconda3/envs/modelling/lib/python3.7/site-packages/MDAnalysis/coordinates/PDB.py:1080: UserWarning: Found no information for attr: 'altLocs' Using default value of ' '\n",
      "  \"\".format(attrname, default))\n",
      "/Users/trivino/opt/miniconda3/envs/modelling/lib/python3.7/site-packages/MDAnalysis/coordinates/PDB.py:1080: UserWarning: Found no information for attr: 'icodes' Using default value of ' '\n",
      "  \"\".format(attrname, default))\n",
      "/Users/trivino/opt/miniconda3/envs/modelling/lib/python3.7/site-packages/MDAnalysis/coordinates/PDB.py:1080: UserWarning: Found no information for attr: 'chainIDs' Using default value of ''\n",
      "  \"\".format(attrname, default))\n",
      "/Users/trivino/opt/miniconda3/envs/modelling/lib/python3.7/site-packages/MDAnalysis/coordinates/PDB.py:1080: UserWarning: Found no information for attr: 'occupancies' Using default value of '1.0'\n",
      "  \"\".format(attrname, default))\n",
      "/Users/trivino/opt/miniconda3/envs/modelling/lib/python3.7/site-packages/MDAnalysis/coordinates/PDB.py:1080: UserWarning: Found no information for attr: 'tempfactors' Using default value of '0.0'\n",
      "  \"\".format(attrname, default))\n",
      "/Users/trivino/opt/miniconda3/envs/modelling/lib/python3.7/site-packages/MDAnalysis/coordinates/PDB.py:1080: UserWarning: Found no information for attr: 'elements' Using default value of ' '\n",
      "  \"\".format(attrname, default))\n",
      "/Users/trivino/opt/miniconda3/envs/modelling/lib/python3.7/site-packages/MDAnalysis/coordinates/PDB.py:1080: UserWarning: Found no information for attr: 'record_types' Using default value of 'ATOM'\n",
      "  \"\".format(attrname, default))\n",
      "/Users/trivino/opt/miniconda3/envs/modelling/lib/python3.7/site-packages/MDAnalysis/coordinates/PDB.py:1126: UserWarning: Found missing chainIDs. Corresponding atoms will use value of 'X'\n",
      "  \"\".format(default))\n"
     ]
    },
    {
     "data": {
      "application/vnd.jupyter.widget-view+json": {
       "model_id": "f6153681c35e48f384ec9731120b22c0",
       "version_major": 2,
       "version_minor": 0
      },
      "text/plain": [
       "NGLWidget(count=101)"
      ]
     },
     "metadata": {},
     "output_type": "display_data"
    }
   ],
   "source": [
    "u = mda.Universe('md.gro','md.xtc')\n",
    "w = nv.show_mdanalysis(u)\n",
    "w"
   ]
  },
  {
   "cell_type": "code",
   "execution_count": null,
   "metadata": {},
   "outputs": [],
   "source": []
  }
 ],
 "metadata": {
  "kernelspec": {
   "display_name": "Python 3.9.13 ('modelling')",
   "language": "python",
   "name": "python3"
  },
  "language_info": {
   "codemirror_mode": {
    "name": "ipython",
    "version": 3
   },
   "file_extension": ".py",
   "mimetype": "text/x-python",
   "name": "python",
   "nbconvert_exporter": "python",
   "pygments_lexer": "ipython3",
   "version": "3.7.13"
  },
  "orig_nbformat": 4,
  "vscode": {
   "interpreter": {
    "hash": "4e72ac0ff440a18fa3181bce49d040cca068b397e7a76769d2b90188e7fbb491"
   }
  }
 },
 "nbformat": 4,
 "nbformat_minor": 2
}
