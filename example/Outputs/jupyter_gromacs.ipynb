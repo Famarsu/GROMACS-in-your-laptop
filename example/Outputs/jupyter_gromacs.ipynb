{
 "cells": [
  {
   "cell_type": "markdown",
   "metadata": {},
   "source": [
    "# Running simulations in a jupyter notebook \n",
    "## Prerequisites\n",
    "1. A conda environment (conda create --name **myenv** )\n",
    "2. Update conda sources to include conda forge and bioconda\n",
    "```\n",
    "conda config --add channels defaults \n",
    "conda config --add channels bioconda \n",
    "conda config --add channels conda-forge\n",
    "```\n",
    "3. Install all the packages as \n",
    "```\n",
    "conda install -c bioconda gromacs\n",
    "conda install nglview\n",
    "conda install py3Dmol\n",
    "conda install matplotlib\n",
    "conda install numpy\n",
    "conda install pytraj\n",
    "conda install MDAnalysis\n",
    "conda install jupyter\n",
    "```\n",
    "4. Open the jupyter notebook in your conda environment, quite simple in VS Code but also straight forward in conda from terminal."
   ]
  },
  {
   "cell_type": "markdown",
   "metadata": {},
   "source": [
    "## Loading all the modules"
   ]
  },
  {
   "cell_type": "code",
   "execution_count": null,
   "metadata": {},
   "outputs": [],
   "source": [
    "import os\n",
    "import nglview as nv\n",
    "!jupyter-nbextension enable nglview --py --sys-prefix # Needed to ensure you can visualize nglview objects in the notebook\n",
    "import matplotlib as mpl\n",
    "import matplotlib.pyplot as plt\n",
    "import pytraj as pt\n",
    "import numpy as np\n",
    "import gromacs\n",
    "import gromacs.formats\n",
    "!export GMXLIB=/opt/anaconda3/pkgs/gromacs-2022-nompi_haa54825_0/share/gromacs/top/ # Configure your environmental variable to the directory where all the topologies are stored\n",
    "import py3Dmol\n",
    "import MDAnalysis as mda"
   ]
  },
  {
   "cell_type": "markdown",
   "metadata": {},
   "source": [
    "### Calling GROMACS from terminal"
   ]
  },
  {
   "cell_type": "markdown",
   "metadata": {},
   "source": [
    "### Making the topology"
   ]
  },
  {
   "cell_type": "code",
   "execution_count": null,
   "metadata": {},
   "outputs": [],
   "source": [
    "!printf '15' | gmx pdb2gmx -f 1aki -o 1_aki_proc -water spce"
   ]
  },
  {
   "cell_type": "markdown",
   "metadata": {},
   "source": [
    "### Creating the simulation box"
   ]
  },
  {
   "cell_type": "code",
   "execution_count": null,
   "metadata": {},
   "outputs": [],
   "source": [
    "!gmx editconf -f 1aki_proc -c -d 0.5 -bt triclinic -o box"
   ]
  },
  {
   "cell_type": "markdown",
   "metadata": {},
   "source": [
    "### Solvating the box"
   ]
  },
  {
   "cell_type": "code",
   "execution_count": null,
   "metadata": {},
   "outputs": [],
   "source": [
    "!gmx solvate -cp box -cs spc216 -p topol -o solv"
   ]
  },
  {
   "cell_type": "markdown",
   "metadata": {},
   "source": [
    "### Integrated GROMACS"
   ]
  },
  {
   "cell_type": "code",
   "execution_count": null,
   "metadata": {},
   "outputs": [],
   "source": [
    "gromacs.solvate(cp='box', cs='spc216', p='topol', o='solv')"
   ]
  },
  {
   "cell_type": "markdown",
   "metadata": {},
   "source": [
    "## Adding ions"
   ]
  },
  {
   "cell_type": "code",
   "execution_count": null,
   "metadata": {},
   "outputs": [],
   "source": [
    "!gmx grompp -f ions -c solv -p topol -o ions"
   ]
  },
  {
   "cell_type": "code",
   "execution_count": null,
   "metadata": {},
   "outputs": [],
   "source": [
    "!printf '13' | gmx genion -s ions -p topol -neutral -pname NA -nname CL -o solv_ions"
   ]
  },
  {
   "cell_type": "markdown",
   "metadata": {},
   "source": [
    "## Energy minimization"
   ]
  },
  {
   "cell_type": "code",
   "execution_count": null,
   "metadata": {},
   "outputs": [],
   "source": [
    "!gmx grompp -f em -c solv_ions -p topol -o em\n",
    "!gmx mdrun -v -deffnm em"
   ]
  },
  {
   "cell_type": "markdown",
   "metadata": {},
   "source": [
    "## Plotting properties"
   ]
  },
  {
   "cell_type": "code",
   "execution_count": null,
   "metadata": {},
   "outputs": [],
   "source": [
    "!printf \"10 0\" | gmx energy -f em -o potential\n",
    "potential = np.genfromtxt([i for i in open('potential.xvg').read().splitlines()\n",
    "    if not i.startswith(('#','@'))])\n",
    "plt.plot(*potential.T)\n",
    "plt.xlabel('step')\n",
    "plt.ylabel('potential')"
   ]
  },
  {
   "cell_type": "markdown",
   "metadata": {},
   "source": [
    "## NVT Equilibration"
   ]
  },
  {
   "cell_type": "code",
   "execution_count": null,
   "metadata": {},
   "outputs": [],
   "source": [
    "!gmx grompp -f nvt -c em -p topol -o nvt\n",
    "!gmx mdrun -v -deffnm nvt"
   ]
  },
  {
   "cell_type": "markdown",
   "metadata": {},
   "source": [
    "### Plotting pressure evolution during the NVT"
   ]
  },
  {
   "cell_type": "code",
   "execution_count": null,
   "metadata": {},
   "outputs": [],
   "source": [
    "!printf '17' | gmx energy -f nvt -o pressure\n",
    "pressure = np.genfromtxt([i for i in open('pressure.xvg').read().splitlines()\n",
    "    if not i.startswith(('#','@'))])\n",
    "plt.plot(*pressure.T)\n",
    "plt.xlabel('step')\n",
    "plt.ylabel('pressure')"
   ]
  },
  {
   "cell_type": "markdown",
   "metadata": {},
   "source": [
    "## NPT Equilibration"
   ]
  },
  {
   "cell_type": "code",
   "execution_count": null,
   "metadata": {},
   "outputs": [],
   "source": [
    "!gmx grompp -f npt -c nvt -p topol -o npt\n",
    "!gmx mdrun -v -deffnm npt"
   ]
  },
  {
   "cell_type": "markdown",
   "metadata": {},
   "source": [
    "## MD Production"
   ]
  },
  {
   "cell_type": "code",
   "execution_count": null,
   "metadata": {},
   "outputs": [],
   "source": [
    "!gmx grompp -f md -c npt -p topol -o md\n",
    "!gmx mdrun -v -deffnm md"
   ]
  },
  {
   "cell_type": "markdown",
   "metadata": {},
   "source": [
    "## Visualization"
   ]
  },
  {
   "cell_type": "markdown",
   "metadata": {},
   "source": [
    "### With py3Dmol"
   ]
  },
  {
   "cell_type": "code",
   "execution_count": null,
   "metadata": {},
   "outputs": [],
   "source": [
    "aki = py3Dmol.view('md.gro')\n",
    "aki.setStyle('stick')\n",
    "aki.insert('md.xtc')\n",
    "aki.show"
   ]
  },
  {
   "cell_type": "markdown",
   "metadata": {},
   "source": [
    "### With NGLview"
   ]
  },
  {
   "cell_type": "code",
   "execution_count": null,
   "metadata": {},
   "outputs": [],
   "source": [
    "import nglview as nv\n",
    "import mdtraj as md\n",
    "traj = md.load('md.xtc',top='md.gro')\n",
    "t = nv.MDTrajTrajectory(traj)\n",
    "w = nv.NGLWidget(t)\n",
    "w"
   ]
  },
  {
   "cell_type": "markdown",
   "metadata": {},
   "source": [
    "### With MDAnalysis\n",
    "Allows in a very simple way visualize trajectories"
   ]
  },
  {
   "cell_type": "code",
   "execution_count": null,
   "metadata": {},
   "outputs": [],
   "source": [
    "u = mda.Universe('md.gro','md.xtc')\n",
    "w = nv.show_mdanalysis(u)\n",
    "w"
   ]
  }
 ],
 "metadata": {
  "interpreter": {
   "hash": "d31c35a9ce7117041c2b17fdd2d51ffdcea37a6aad157a7d04b0b34e3e4aaf52"
  },
  "kernelspec": {
   "display_name": "Python 3.7.12 ('modelling')",
   "language": "python",
   "name": "python3"
  },
  "language_info": {
   "codemirror_mode": {
    "name": "ipython",
    "version": 3
   },
   "file_extension": ".py",
   "mimetype": "text/x-python",
   "name": "python",
   "nbconvert_exporter": "python",
   "pygments_lexer": "ipython3",
   "version": "3.7.12"
  },
  "orig_nbformat": 4
 },
 "nbformat": 4,
 "nbformat_minor": 2
}
